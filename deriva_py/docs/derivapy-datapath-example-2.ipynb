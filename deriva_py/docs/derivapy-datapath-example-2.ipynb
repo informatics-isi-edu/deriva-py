{
 "cells": [
  {
   "cell_type": "markdown",
   "metadata": {
    "collapsed": true
   },
   "source": [
    "# DataPath Example 2\n",
    "This notebook gives a very basic example of how to access data. \n",
    "It assumes that you understand the concepts presented in the \n",
    "example 1 notebook."
   ]
  },
  {
   "cell_type": "code",
   "execution_count": 1,
   "metadata": {
    "collapsed": true
   },
   "outputs": [],
   "source": [
    "# Import deriva modules\n",
    "from deriva_common import ErmrestCatalog, get_credential"
   ]
  },
  {
   "cell_type": "code",
   "execution_count": 2,
   "metadata": {
    "collapsed": true
   },
   "outputs": [],
   "source": [
    "# Connect with the deriva catalog\n",
    "protocol = 'https'\n",
    "hostname = 'www.facebase.org'\n",
    "catalog_number = 1\n",
    "credential = None\n",
    "# If you need to authenticate, use Deriva Auth agent and get the credential\n",
    "# credential = get_credential(hostname)\n",
    "catalog = ErmrestCatalog(protocol, hostname, catalog_number, credential)"
   ]
  },
  {
   "cell_type": "code",
   "execution_count": 3,
   "metadata": {
    "collapsed": true
   },
   "outputs": [],
   "source": [
    "# Get the path builder interface for this catalog\n",
    "pb = catalog.getPathBuilder()"
   ]
  },
  {
   "cell_type": "markdown",
   "metadata": {},
   "source": [
    "## DataPaths\n",
    "The `PathBuilder` object allows you to begin `DataPath`s from the base `Table`s. A `DataPath` begins with a `Table` (or an `TableAlias` to be discussed later) as its \"root\" from which one can \"`link`\", \"`filter`\", and fetch its \"`entities`\"."
   ]
  },
  {
   "cell_type": "markdown",
   "metadata": {},
   "source": [
    "### Start a path rooted at a table from the catalog\n",
    "We will reference a table from the PathBuilder `pb` variable from above. Using the PathBuilder, we will reference the \"isa\" schema, then the \"dataset\" table, and from that table start a path."
   ]
  },
  {
   "cell_type": "code",
   "execution_count": 4,
   "metadata": {
    "collapsed": true
   },
   "outputs": [],
   "source": [
    "path = pb.schemas['isa'].tables['dataset'].path"
   ]
  },
  {
   "cell_type": "markdown",
   "metadata": {},
   "source": [
    "We could have used the more compact dot-notation to start the same path."
   ]
  },
  {
   "cell_type": "code",
   "execution_count": 5,
   "metadata": {
    "collapsed": true
   },
   "outputs": [],
   "source": [
    "path = pb.isa.dataset.path"
   ]
  },
  {
   "cell_type": "markdown",
   "metadata": {},
   "source": [
    "### Getting the URI of the current path\n",
    "All DataPaths have URIs for the referenced resources in ERMrest. The URI identifies the resources which are available through \"RESTful\" Web protocols supported by ERMrest."
   ]
  },
  {
   "cell_type": "code",
   "execution_count": 6,
   "metadata": {},
   "outputs": [
    {
     "name": "stdout",
     "output_type": "stream",
     "text": [
      "https://www.facebase.org/ermrest/catalog/1/entity/dataset:=isa:dataset\n"
     ]
    }
   ],
   "source": [
    "print(path.uri)"
   ]
  },
  {
   "cell_type": "markdown",
   "metadata": {},
   "source": [
    "## EntitySets\n",
    "The entities from a DataPath are accessed through a pythonic container object, the `EntitySet`. The `EntitySet` is returned by the DataPath's `entities()` method."
   ]
  },
  {
   "cell_type": "code",
   "execution_count": 7,
   "metadata": {
    "collapsed": true
   },
   "outputs": [],
   "source": [
    "entities = path.entities()"
   ]
  },
  {
   "cell_type": "markdown",
   "metadata": {},
   "source": [
    "### Fetch entities from the catalog\n",
    "Now we can get entities from the server using the EntitySet's `fetch()` method."
   ]
  },
  {
   "cell_type": "code",
   "execution_count": 8,
   "metadata": {},
   "outputs": [
    {
     "data": {
      "text/plain": [
       "<deriva_common.datapath.EntitySet at 0x10d9f76d8>"
      ]
     },
     "execution_count": 8,
     "metadata": {},
     "output_type": "execute_result"
    }
   ],
   "source": [
    "entities.fetch()"
   ]
  },
  {
   "cell_type": "markdown",
   "metadata": {},
   "source": [
    "`EntitySet`s behave like python containers. For example, we can check the count of rows in this EntitySet."
   ]
  },
  {
   "cell_type": "code",
   "execution_count": 9,
   "metadata": {},
   "outputs": [
    {
     "data": {
      "text/plain": [
       "712"
      ]
     },
     "execution_count": 9,
     "metadata": {},
     "output_type": "execute_result"
    }
   ],
   "source": [
    "len(entities)"
   ]
  },
  {
   "cell_type": "markdown",
   "metadata": {},
   "source": [
    "**Note**: If we had not explicitly called the `fetch()` method, then it would have been called implicitly on the first container operation such as `len(...)`, `list(...)`, `iter(...)` or get item `[...]`."
   ]
  },
  {
   "cell_type": "markdown",
   "metadata": {},
   "source": [
    "### Get an entity\n",
    "To get one entity from the set, use the usual container operator to get an item."
   ]
  },
  {
   "cell_type": "code",
   "execution_count": 10,
   "metadata": {},
   "outputs": [
    {
     "data": {
      "text/plain": [
       "{'_keywords': 'Research on Functional Genomics, Image Analysis and Rescue of Cleft Palate Released',\n",
       " 'accession': 'FB00000288.02',\n",
       " 'description': 'Mouse ID: DH202\\n This dataset includes a microCT scan of the skull of a Smad4fl/fl mouse at E18.5.\\nThe scan is in NiFTI format. See Help section for a list of free applications to view files in NiFTI format   ',\n",
       " 'funding': 'This study was supported by grants from the National Institute of Dental and Craniofacial Research, NIH (DE012711, DE014078, DE017007, and DE020065) to Yang Chai.',\n",
       " 'gene_summary': None,\n",
       " 'human_anatomic': None,\n",
       " 'id': 10521,\n",
       " 'mouse_genetic': None,\n",
       " 'project': 156,\n",
       " 'release_date': '2015-06-01',\n",
       " 'show_in_jbrowse': None,\n",
       " 'status': 2,\n",
       " 'study_design': None,\n",
       " 'summary': 'Mouse ID: DH202; This dataset includes a microCT scan of the skull of a Smad4fl/fl mouse at E18.5. The scan is in NiFTI format, which can be read by a number of free software applications including those listed below. To receive the scan in DICOM format, please email help@facebase.org. The following programs allow you to load and explore files in NiFTI format: -- ImageJ, a java-based program that runs on most operating systems, including MAC OSX -- MBAT, from the Laboratory of Neural Imaging at USC -- Mango, from Neuroimaging Informatics Tools and Resources Clearinghouse, offers desktop, web, and iPad-compatible versions. -- MRIcro, which runs on Windows and Linux systems. ',\n",
       " 'thumbnail': 1197,\n",
       " 'title': 'microCT - Soft Tissue of Smad4fl/fl Control Mouse at E18.5',\n",
       " 'view_gene_summary': None,\n",
       " 'view_related_datasets': 'Smad4'}"
      ]
     },
     "execution_count": 10,
     "metadata": {},
     "output_type": "execute_result"
    }
   ],
   "source": [
    "entities[9]"
   ]
  },
  {
   "cell_type": "markdown",
   "metadata": {},
   "source": [
    "### Get a specific attribute value from an entity\n",
    "To get one attribute value from an entity get the item using its `Column`'s `name` property."
   ]
  },
  {
   "cell_type": "code",
   "execution_count": 11,
   "metadata": {},
   "outputs": [
    {
     "name": "stdout",
     "output_type": "stream",
     "text": [
      "FB00000288.02\n"
     ]
    }
   ],
   "source": [
    "dataset = pb.schemas['isa'].tables['dataset']\n",
    "print (entities[9][dataset.accession.name])"
   ]
  },
  {
   "cell_type": "markdown",
   "metadata": {},
   "source": [
    "## Fetch a Limited Number of Entities\n",
    "To set a limit on the number of entities to be fetched from the catalog, use the explicit `fetch(limit=...)` method with the desired upper limit to fetch from the catalog."
   ]
  },
  {
   "cell_type": "code",
   "execution_count": 12,
   "metadata": {},
   "outputs": [
    {
     "data": {
      "text/plain": [
       "3"
      ]
     },
     "execution_count": 12,
     "metadata": {},
     "output_type": "execute_result"
    }
   ],
   "source": [
    "entities.fetch(limit=3)\n",
    "len(entities)"
   ]
  },
  {
   "cell_type": "markdown",
   "metadata": {},
   "source": [
    "### Iterate over the EntitySet\n",
    "`EntitySet`s are iterable like a typical container."
   ]
  },
  {
   "cell_type": "code",
   "execution_count": 13,
   "metadata": {},
   "outputs": [
    {
     "name": "stdout",
     "output_type": "stream",
     "text": [
      "FB00000827\n",
      "FB00000861\n",
      "FB00000380.01\n"
     ]
    }
   ],
   "source": [
    "for entity in entities:\n",
    "    print(entity[dataset.accession.name])"
   ]
  },
  {
   "cell_type": "markdown",
   "metadata": {},
   "source": [
    "## Convert to Pandas DataFrame\n",
    "EntitySets can be transformed into the popular Pandas DataFrame."
   ]
  },
  {
   "cell_type": "code",
   "execution_count": 14,
   "metadata": {},
   "outputs": [
    {
     "data": {
      "text/html": [
       "<div>\n",
       "<style>\n",
       "    .dataframe thead tr:only-child th {\n",
       "        text-align: right;\n",
       "    }\n",
       "\n",
       "    .dataframe thead th {\n",
       "        text-align: left;\n",
       "    }\n",
       "\n",
       "    .dataframe tbody tr th {\n",
       "        vertical-align: top;\n",
       "    }\n",
       "</style>\n",
       "<table border=\"1\" class=\"dataframe\">\n",
       "  <thead>\n",
       "    <tr style=\"text-align: right;\">\n",
       "      <th></th>\n",
       "      <th>_keywords</th>\n",
       "      <th>accession</th>\n",
       "      <th>description</th>\n",
       "      <th>funding</th>\n",
       "      <th>gene_summary</th>\n",
       "      <th>human_anatomic</th>\n",
       "      <th>id</th>\n",
       "      <th>mouse_genetic</th>\n",
       "      <th>project</th>\n",
       "      <th>release_date</th>\n",
       "      <th>show_in_jbrowse</th>\n",
       "      <th>status</th>\n",
       "      <th>study_design</th>\n",
       "      <th>summary</th>\n",
       "      <th>thumbnail</th>\n",
       "      <th>title</th>\n",
       "      <th>view_gene_summary</th>\n",
       "      <th>view_related_datasets</th>\n",
       "    </tr>\n",
       "  </thead>\n",
       "  <tbody>\n",
       "    <tr>\n",
       "      <th>0</th>\n",
       "      <td>Epigenetic landscapes and regulatory divergenc...</td>\n",
       "      <td>FB00000827</td>\n",
       "      <td>Tg(hg19_chr7:145843942-145844366::LacZ) activi...</td>\n",
       "      <td>U01 DE024430</td>\n",
       "      <td>None</td>\n",
       "      <td>None</td>\n",
       "      <td>14062</td>\n",
       "      <td>None</td>\n",
       "      <td>307</td>\n",
       "      <td>2016-01-01</td>\n",
       "      <td>None</td>\n",
       "      <td>3</td>\n",
       "      <td>None</td>\n",
       "      <td>Activity of human neural crest enhancer in E11...</td>\n",
       "      <td>442</td>\n",
       "      <td>Activity of human neural crest enhancer in E11...</td>\n",
       "      <td>None</td>\n",
       "      <td>None</td>\n",
       "    </tr>\n",
       "    <tr>\n",
       "      <th>1</th>\n",
       "      <td>Developing 3D Craniofacial Morphometry Data an...</td>\n",
       "      <td>FB00000861</td>\n",
       "      <td>Human-subject dataset with scans (in .ply form...</td>\n",
       "      <td>None</td>\n",
       "      <td>None</td>\n",
       "      <td>None</td>\n",
       "      <td>14096</td>\n",
       "      <td>None</td>\n",
       "      <td>301</td>\n",
       "      <td>2017-03-03</td>\n",
       "      <td>None</td>\n",
       "      <td>3</td>\n",
       "      <td>None</td>\n",
       "      <td>Human-subject dataset with scans for the 3D cr...</td>\n",
       "      <td>442</td>\n",
       "      <td>Developing 3D Craniofacial Morphometry Data an...</td>\n",
       "      <td>None</td>\n",
       "      <td>None</td>\n",
       "    </tr>\n",
       "    <tr>\n",
       "      <th>2</th>\n",
       "      <td>Functional Analysis of Neural Crest and Palate...</td>\n",
       "      <td>FB00000380.01</td>\n",
       "      <td>microMRI images of skulls of Ctgftm1Kml/Ctgft...</td>\n",
       "      <td>PIs: Scott Fraser and Seth Ruffins. This work ...</td>\n",
       "      <td>None</td>\n",
       "      <td>None</td>\n",
       "      <td>6399</td>\n",
       "      <td>None</td>\n",
       "      <td>151</td>\n",
       "      <td>2015-06-01</td>\n",
       "      <td>None</td>\n",
       "      <td>2</td>\n",
       "      <td>None</td>\n",
       "      <td>microMRI images of skulls of Ctgftm1Kml/Ctgft...</td>\n",
       "      <td>382</td>\n",
       "      <td>microMRI images of skulls of Ctgftm1Kml/Ctgftm...</td>\n",
       "      <td>None</td>\n",
       "      <td>None</td>\n",
       "    </tr>\n",
       "  </tbody>\n",
       "</table>\n",
       "</div>"
      ],
      "text/plain": [
       "                                           _keywords      accession  \\\n",
       "0  Epigenetic landscapes and regulatory divergenc...     FB00000827   \n",
       "1  Developing 3D Craniofacial Morphometry Data an...     FB00000861   \n",
       "2  Functional Analysis of Neural Crest and Palate...  FB00000380.01   \n",
       "\n",
       "                                         description  \\\n",
       "0  Tg(hg19_chr7:145843942-145844366::LacZ) activi...   \n",
       "1  Human-subject dataset with scans (in .ply form...   \n",
       "2   microMRI images of skulls of Ctgftm1Kml/Ctgft...   \n",
       "\n",
       "                                             funding gene_summary  \\\n",
       "0                                       U01 DE024430         None   \n",
       "1                                               None         None   \n",
       "2  PIs: Scott Fraser and Seth Ruffins. This work ...         None   \n",
       "\n",
       "  human_anatomic     id mouse_genetic  project release_date show_in_jbrowse  \\\n",
       "0           None  14062          None      307   2016-01-01            None   \n",
       "1           None  14096          None      301   2017-03-03            None   \n",
       "2           None   6399          None      151   2015-06-01            None   \n",
       "\n",
       "   status study_design                                            summary  \\\n",
       "0       3         None  Activity of human neural crest enhancer in E11...   \n",
       "1       3         None  Human-subject dataset with scans for the 3D cr...   \n",
       "2       2         None   microMRI images of skulls of Ctgftm1Kml/Ctgft...   \n",
       "\n",
       "   thumbnail                                              title  \\\n",
       "0        442  Activity of human neural crest enhancer in E11...   \n",
       "1        442  Developing 3D Craniofacial Morphometry Data an...   \n",
       "2        382  microMRI images of skulls of Ctgftm1Kml/Ctgftm...   \n",
       "\n",
       "  view_gene_summary view_related_datasets  \n",
       "0              None                  None  \n",
       "1              None                  None  \n",
       "2              None                  None  "
      ]
     },
     "execution_count": 14,
     "metadata": {},
     "output_type": "execute_result"
    }
   ],
   "source": [
    "entities.dataframe"
   ]
  },
  {
   "cell_type": "markdown",
   "metadata": {
    "collapsed": true
   },
   "source": [
    "## Selecting Attributes\n",
    "It is also possible to fetch only a subset of attributes from the catalog. The `entities(...)` method accepts a variable argument list followed by keyword arguments. Each argument must be a `Column` object from the table's `columns` container.\n",
    "\n",
    "### Renaming selected attributes\n",
    "To rename the selected attributes, use \"keyword\" arguments in the method. For example, `entities(..., new_name=table.column)` will rename `table.column` with `new_name` in the entities returned from the server. (It will not change anything in the stored catalog data.) Note that in pythong, the keyword arguments _must come after_ other arguments."
   ]
  },
  {
   "cell_type": "code",
   "execution_count": 15,
   "metadata": {
    "collapsed": true
   },
   "outputs": [],
   "source": [
    "entities = path.entities(dataset.accession, dataset.title, The_Statues_Code=dataset.status).fetch(limit=5)"
   ]
  },
  {
   "cell_type": "markdown",
   "metadata": {},
   "source": [
    "### Convert to list\n",
    "Now we can look at the results from the above fetch. To demonstrate a different access mode, we can convert the entities to a standard python list and dump to the console."
   ]
  },
  {
   "cell_type": "code",
   "execution_count": 16,
   "metadata": {},
   "outputs": [
    {
     "data": {
      "text/plain": [
       "[{'The_Statues_Code': 3,\n",
       "  'accession': 'FB00000827',\n",
       "  'title': 'Activity of human neural crest enhancer in E11.5 mouse embryo - Tg(hg19_chr7:145843942-145844366::LacZ)'},\n",
       " {'The_Statues_Code': 3,\n",
       "  'accession': 'FB00000861',\n",
       "  'title': 'Developing 3D Craniofacial Morphometry Data and Tools to Transform Dysmorphology'},\n",
       " {'The_Statues_Code': 2,\n",
       "  'accession': 'FB00000380.01',\n",
       "  'title': 'microMRI images of skulls of Ctgftm1Kml/Ctgftm1Kml mice at E14.5 '},\n",
       " {'The_Statues_Code': 2,\n",
       "  'accession': 'FB00000393.01',\n",
       "  'title': 'microMRI images of skulls of Tgfbr2fl/fl mice at E18.5'},\n",
       " {'The_Statues_Code': 2,\n",
       "  'accession': 'FB00000155',\n",
       "  'title': 'Micro-CT images of adult mouse skulls, Collaborative Cross NZO x WSB'}]"
      ]
     },
     "execution_count": 16,
     "metadata": {},
     "output_type": "execute_result"
    }
   ],
   "source": [
    "list(entities)"
   ]
  }
 ],
 "metadata": {
  "kernelspec": {
   "display_name": "Python 3",
   "language": "python",
   "name": "python3"
  },
  "language_info": {
   "codemirror_mode": {
    "name": "ipython",
    "version": 3
   },
   "file_extension": ".py",
   "mimetype": "text/x-python",
   "name": "python",
   "nbconvert_exporter": "python",
   "pygments_lexer": "ipython3",
   "version": "3.6.2"
  }
 },
 "nbformat": 4,
 "nbformat_minor": 2
}
