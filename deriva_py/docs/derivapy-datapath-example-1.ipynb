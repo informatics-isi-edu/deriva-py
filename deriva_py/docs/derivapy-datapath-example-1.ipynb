{
 "cells": [
  {
   "cell_type": "markdown",
   "metadata": {
    "collapsed": true
   },
   "source": [
    "# DataPath Example 1\n",
    "This notebook gives an example of how to access the model elements (e.g.,\n",
    "schemas, tables, columns) that are used when building data paths."
   ]
  },
  {
   "cell_type": "code",
   "execution_count": 1,
   "metadata": {
    "collapsed": true
   },
   "outputs": [],
   "source": [
    "# Import deriva modules\n",
    "from deriva_common import ErmrestCatalog, get_credential"
   ]
  },
  {
   "cell_type": "code",
   "execution_count": 2,
   "metadata": {
    "collapsed": true
   },
   "outputs": [],
   "source": [
    "# Connect with the deriva catalog\n",
    "protocol = 'https'\n",
    "hostname = 'www.facebase.org'\n",
    "catalog_number = 1\n",
    "credential = None\n",
    "# If you need to authenticate, use Deriva Auth agent and get the credential:\n",
    "# credential = get_credential(hostname)\n",
    "catalog = ErmrestCatalog(protocol, hostname, catalog_number, credential)"
   ]
  },
  {
   "cell_type": "markdown",
   "metadata": {},
   "source": [
    "## The PathBuilder Interface\n",
    "The path builder interface gives you access to a representation of the catalog's data model beginning with the catalog's schemas. The path builder does *not* record any state about your paths, it is just an entry point to begin building paths."
   ]
  },
  {
   "cell_type": "code",
   "execution_count": 3,
   "metadata": {
    "collapsed": true
   },
   "outputs": [],
   "source": [
    "# Get the path builder interface for this catalog\n",
    "pb = catalog.getPathBuilder()"
   ]
  },
  {
   "cell_type": "markdown",
   "metadata": {},
   "source": [
    "## Access to Schemas\n",
    "The `.schemas` property acts like a python dictionary or Map object. Use its `keys()` method to\n",
    "get a listing of the schema names."
   ]
  },
  {
   "cell_type": "code",
   "execution_count": 4,
   "metadata": {},
   "outputs": [
    {
     "data": {
      "text/plain": [
       "['vocabulary', 'metadata_raw', 'viz', 'load_temp', 'legacy', 'isa']"
      ]
     },
     "execution_count": 4,
     "metadata": {},
     "output_type": "execute_result"
    }
   ],
   "source": [
    "pb.schemas.keys()"
   ]
  },
  {
   "cell_type": "markdown",
   "metadata": {
    "collapsed": true
   },
   "source": [
    "Here we will get a handle to the `isa` schmea."
   ]
  },
  {
   "cell_type": "code",
   "execution_count": 5,
   "metadata": {
    "collapsed": true
   },
   "outputs": [],
   "source": [
    "isa = pb.schemas['isa']"
   ]
  },
  {
   "cell_type": "markdown",
   "metadata": {},
   "source": [
    "**PROTIP**: Jupyter Notebook supports `<tab>` completion. Press the `<tab>` key\n",
    "after typing the brackets of a dictionary to see the keys. Typing\n",
    "`pb.schemas[<tab>]` will give you a dropdown of schema names. Note that the notebook\n",
    "interpretter will not know anything about your objects until you have executed a \n",
    "step with them. So instantiate an object in one step, and then you can use tab-completion\n",
    "in the following steps."
   ]
  },
  {
   "cell_type": "markdown",
   "metadata": {},
   "source": [
    "### Alternative access method for schemas and other model objects\n",
    "\n",
    "An alternative way to get a handle to the same schema object is \n",
    "directly as a property of the path builder object itself. However,\n",
    "this only works for schema names that are _valid python identifiers_.\n",
    "\n",
    "A valid python identifier may start with '`_`' or a letter as its first\n",
    "character and have '`_`', letters, or numbers for the rest of its characters.\n",
    "- **Valid Python identifiers**: `'dataset'`, `'assay'`, `'Molecule_Type'`, etc.\n",
    "- **Invalid Python identifiers**: `'Sample 1 Type'`, `'Control?'`, `'# of reads'`, etc.\n",
    "\n",
    "**IMPORTANT**\n",
    "Similar access methods will be demonstrated for tables and columns \n",
    "below. Since not all catalog model names are valid python identifiers\n",
    "when you use this method, you may not see your catalog's complete\n",
    "data model. However, the notation is more compact and ideal for\n",
    "cases where your model uses (all or mostly) valid python identifiers\n",
    "in its model element names."
   ]
  },
  {
   "cell_type": "code",
   "execution_count": 6,
   "metadata": {},
   "outputs": [],
   "source": [
    "isa = pb.isa  # same schema object we got from the previous step"
   ]
  },
  {
   "cell_type": "markdown",
   "metadata": {},
   "source": [
    "## Access to Tables\n",
    "Similarly, a schema object has a `tables` property that gives you access\n",
    "to a representation of the catalog schema's tables. Again, use its `keys()`\n",
    "method to list the table names in the schema."
   ]
  },
  {
   "cell_type": "code",
   "execution_count": 7,
   "metadata": {},
   "outputs": [
    {
     "data": {
      "text/plain": [
       "['mouse_enhancer',\n",
       " 'project_publication',\n",
       " 'dataset_human_gender',\n",
       " 'imaging',\n",
       " 'dataset_mouse_genetic_background',\n",
       " 'dataset_data_type',\n",
       " 'dataset_zebrafish_mutation',\n",
       " 'file_compact',\n",
       " 'dataset_chromosome',\n",
       " 'enhancer',\n",
       " 'zebrafish_mutation',\n",
       " 'mouse_genetic_background',\n",
       " 'publication',\n",
       " 'imaging_method',\n",
       " 'dataset_instrument',\n",
       " 'dataset_mouse_theiler_stage',\n",
       " 'human_age_stage',\n",
       " 'dataset_mouse_enhancer',\n",
       " 'dataset_zebrafish_anatomic_source',\n",
       " 'experiment_type',\n",
       " 'organism',\n",
       " 'dataset_human_age',\n",
       " 'jax_strain',\n",
       " 'library',\n",
       " 'mouse_theiler_stage',\n",
       " 'dataset_mouse_gene',\n",
       " 'dataset',\n",
       " 'dataset_mouse_age_stage',\n",
       " 'dataset_experiment_type',\n",
       " 'external_reference',\n",
       " 'tracks',\n",
       " 'zebrafish_anatomic_source',\n",
       " 'project',\n",
       " 'dataset_geo',\n",
       " 'human_gender',\n",
       " 'file',\n",
       " 'dataset_organism',\n",
       " 'dataset_zebrafish_age_stage',\n",
       " 'track_file',\n",
       " 'zebrafish_genotype',\n",
       " 'icon',\n",
       " 'dataset_human_anatomic_source',\n",
       " 'dataset_human_age_stage',\n",
       " 'alignment',\n",
       " 'dataset_status',\n",
       " 'zebrafish_age_stage',\n",
       " 'dataset_somite_count',\n",
       " 'human_age',\n",
       " 'specimen',\n",
       " 'dataset_summary',\n",
       " 'dataset_mouse_genotype',\n",
       " 'dataset_mouse_mutation',\n",
       " 'human_enhancer',\n",
       " 'mouse_age_stage',\n",
       " 'instrument',\n",
       " 'project_member',\n",
       " 'project_investigator',\n",
       " 'human_anatomic_source',\n",
       " 'mouse_gene',\n",
       " 'assay',\n",
       " 'person',\n",
       " 'image_staining',\n",
       " 'sample',\n",
       " 'mouse_mutation',\n",
       " 'data_type',\n",
       " 'dataset_phenotype',\n",
       " 'dataset_investigators',\n",
       " 'clinical_assay',\n",
       " 'dataset_zebrafish_genotype',\n",
       " 'mouse_anatomic_source',\n",
       " 'thumbnail',\n",
       " 'assay_file',\n",
       " 'mouse_genotype',\n",
       " 'dataset_mouse_anatomic_source',\n",
       " 'dataset_human_enhancer']"
      ]
     },
     "execution_count": 7,
     "metadata": {},
     "output_type": "execute_result"
    }
   ],
   "source": [
    "isa.tables.keys()"
   ]
  },
  {
   "cell_type": "markdown",
   "metadata": {
    "collapsed": true
   },
   "source": [
    "Similarly we can get a table from the schema's `tables` property in\n",
    "both of the demonstrated methods."
   ]
  },
  {
   "cell_type": "code",
   "execution_count": 8,
   "metadata": {
    "collapsed": true
   },
   "outputs": [],
   "source": [
    "dataset = isa.tables['dataset']\n",
    "# or\n",
    "dataset = isa.dataset"
   ]
  },
  {
   "cell_type": "markdown",
   "metadata": {},
   "source": [
    "## Access to Columns\n",
    "A table has a `columns` dictionary. We can get the column names as usual."
   ]
  },
  {
   "cell_type": "code",
   "execution_count": 9,
   "metadata": {},
   "outputs": [
    {
     "data": {
      "text/plain": [
       "dict_keys(['id', 'accession', 'title', 'project', 'funding', 'summary', 'description', 'view_gene_summary', 'view_related_datasets', 'mouse_genetic', 'human_anatomic', 'study_design', 'release_date', 'status', 'gene_summary', 'thumbnail', 'show_in_jbrowse', '_keywords'])"
      ]
     },
     "execution_count": 9,
     "metadata": {},
     "output_type": "execute_result"
    }
   ],
   "source": [
    "dataset.columns.keys()"
   ]
  },
  {
   "cell_type": "markdown",
   "metadata": {
    "collapsed": true
   },
   "source": [
    "Again, we have the following methods to get handles to the table's\n",
    "column objects."
   ]
  },
  {
   "cell_type": "code",
   "execution_count": 10,
   "metadata": {
    "collapsed": true
   },
   "outputs": [],
   "source": [
    "accession = dataset.columns['accession']\n",
    "# or\n",
    "accession = dataset.accession"
   ]
  },
  {
   "cell_type": "markdown",
   "metadata": {
    "collapsed": true
   },
   "source": [
    "## Final Thought\n",
    "\n",
    "The model introspection provided in the datapath\n",
    "module (i.e., the PathBuilder) is intended for the narrowly scoped\n",
    "usage required for building paths and accessing data from ERMrest\n",
    "catalogs. It is _not_ intended for general introspection of catalogs\n",
    "and therefore _does not_ include details such as constraints, \n",
    "annotations, ACLs, column data types, etc."
   ]
  },
  {
   "cell_type": "code",
   "execution_count": null,
   "metadata": {
    "collapsed": true
   },
   "outputs": [],
   "source": []
  }
 ],
 "metadata": {
  "kernelspec": {
   "display_name": "Python 3",
   "language": "python",
   "name": "python3"
  },
  "language_info": {
   "codemirror_mode": {
    "name": "ipython",
    "version": 3
   },
   "file_extension": ".py",
   "mimetype": "text/x-python",
   "name": "python",
   "nbconvert_exporter": "python",
   "pygments_lexer": "ipython3",
   "version": "3.6.2"
  }
 },
 "nbformat": 4,
 "nbformat_minor": 2
}
